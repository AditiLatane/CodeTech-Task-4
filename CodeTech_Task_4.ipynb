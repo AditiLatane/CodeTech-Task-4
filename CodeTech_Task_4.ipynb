{
  "nbformat": 4,
  "nbformat_minor": 0,
  "metadata": {
    "colab": {
      "provenance": []
    },
    "kernelspec": {
      "name": "python3",
      "display_name": "Python 3"
    },
    "language_info": {
      "name": "python"
    }
  },
  "cells": [
    {
      "cell_type": "markdown",
      "source": [
        "# **Problem Statement**"
      ],
      "metadata": {
        "id": "PG_Lud06PR1w"
      }
    },
    {
      "cell_type": "markdown",
      "source": [
        "\n",
        "> A company makes Chairs and Tables.\n",
        "\n",
        "\n",
        "\n",
        "**Each Chair takes:**\n",
        "\n",
        "*   2 units of wood\n",
        "*   3 hours of labor\n",
        "\n",
        "**Each Table takes:**\n",
        "\n",
        "*   4 units of wood\n",
        "*   2 hours of labor\n",
        "\n",
        "**Resources available:**\n",
        "\n",
        "*   100 units of wood\n",
        "*   90 hours of labor\n",
        "\n",
        "\n",
        "**Profit:**\n",
        "\n",
        "*   ₹50 per chair\n",
        "*   ₹70 per table\n",
        "\n",
        "\n",
        "**📌 Goal:** Maximize profit."
      ],
      "metadata": {
        "id": "Zp5Sf8R2M14K"
      }
    },
    {
      "cell_type": "markdown",
      "source": [
        "# **Required Installation**"
      ],
      "metadata": {
        "id": "pSYgDdrTPhO-"
      }
    },
    {
      "cell_type": "code",
      "source": [
        "pip install pulp"
      ],
      "metadata": {
        "colab": {
          "base_uri": "https://localhost:8080/"
        },
        "id": "C8rv-RRZNwmM",
        "outputId": "8e2e11e4-9214-4fa6-8729-dca00ad6ed49"
      },
      "execution_count": 2,
      "outputs": [
        {
          "output_type": "stream",
          "name": "stdout",
          "text": [
            "Collecting pulp\n",
            "  Downloading pulp-3.2.1-py3-none-any.whl.metadata (6.9 kB)\n",
            "Downloading pulp-3.2.1-py3-none-any.whl (16.4 MB)\n",
            "\u001b[2K   \u001b[90m━━━━━━━━━━━━━━━━━━━━━━━━━━━━━━━━━━━━━━━━\u001b[0m \u001b[32m16.4/16.4 MB\u001b[0m \u001b[31m91.1 MB/s\u001b[0m eta \u001b[36m0:00:00\u001b[0m\n",
            "\u001b[?25hInstalling collected packages: pulp\n",
            "Successfully installed pulp-3.2.1\n"
          ]
        }
      ]
    },
    {
      "cell_type": "markdown",
      "source": [
        "# **Solution**"
      ],
      "metadata": {
        "id": "W6PbWbALPnA4"
      }
    },
    {
      "cell_type": "code",
      "source": [
        "# Import Libraries\n",
        "from pulp import LpMaximize, LpProblem, LpVariable, value"
      ],
      "metadata": {
        "id": "C29JG8KRPvqD"
      },
      "execution_count": 4,
      "outputs": []
    },
    {
      "cell_type": "code",
      "source": [
        "# 1. Define the problem\n",
        "model = LpProblem(name=\"furniture-production\", sense=LpMaximize)\n"
      ],
      "metadata": {
        "id": "Rs0SxOUpPzx7"
      },
      "execution_count": 5,
      "outputs": []
    },
    {
      "cell_type": "code",
      "source": [
        "# 2. Define decision variables\n",
        "chairs = LpVariable(name=\"Chairs\", lowBound=0, cat=\"Integer\")\n",
        "tables = LpVariable(name=\"Tables\", lowBound=0, cat=\"Integer\")"
      ],
      "metadata": {
        "id": "bzz_UXS9P3hg"
      },
      "execution_count": 6,
      "outputs": []
    },
    {
      "cell_type": "code",
      "source": [
        "# 3. Add objective function (maximize profit)\n",
        "model += 50 * chairs + 70 * tables, \"Total Profit\""
      ],
      "metadata": {
        "id": "GlhOx-nnP5cW"
      },
      "execution_count": 7,
      "outputs": []
    },
    {
      "cell_type": "code",
      "source": [
        "# 4. Add constraints\n",
        "model += 2 * chairs + 4 * tables <= 100, \"Wood Constraint\"\n",
        "model += 3 * chairs + 2 * tables <= 90, \"Labor Constraint\""
      ],
      "metadata": {
        "id": "_jMFv3YCP7f-"
      },
      "execution_count": 8,
      "outputs": []
    },
    {
      "cell_type": "code",
      "source": [
        "# 5. Solve the model\n",
        "model.solve()"
      ],
      "metadata": {
        "colab": {
          "base_uri": "https://localhost:8080/"
        },
        "id": "YYTbgCqIP9M-",
        "outputId": "a190542a-7a38-4eb7-e8ef-c11785b28426"
      },
      "execution_count": 9,
      "outputs": [
        {
          "output_type": "execute_result",
          "data": {
            "text/plain": [
              "1"
            ]
          },
          "metadata": {},
          "execution_count": 9
        }
      ]
    },
    {
      "cell_type": "code",
      "source": [
        "# 6. Output results\n",
        "print(f\"Chairs to produce: {chairs.value()}\")\n",
        "print(f\"Tables to produce: {tables.value()}\")\n",
        "print(f\"Maximum Profit: ₹{value(model.objective)}\")"
      ],
      "metadata": {
        "colab": {
          "base_uri": "https://localhost:8080/"
        },
        "id": "c601js1wP-4-",
        "outputId": "98e88a7c-5e41-4f7a-e1dd-d85d2f113eff"
      },
      "execution_count": 10,
      "outputs": [
        {
          "output_type": "stream",
          "name": "stdout",
          "text": [
            "Chairs to produce: 20.0\n",
            "Tables to produce: 15.0\n",
            "Maximum Profit: ₹2050.0\n"
          ]
        }
      ]
    },
    {
      "cell_type": "markdown",
      "source": [
        "# **Insights**"
      ],
      "metadata": {
        "id": "WtmvHRbkR6hQ"
      }
    },
    {
      "cell_type": "markdown",
      "source": [
        "By producing 20 chairs and 15 tables, the company uses resources efficiently and earns the maximum profit of ₹2050 without violating constraints."
      ],
      "metadata": {
        "id": "si866QsfR9Z1"
      }
    }
  ]
}